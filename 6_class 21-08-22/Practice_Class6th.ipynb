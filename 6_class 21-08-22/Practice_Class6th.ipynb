{
 "cells": [
  {
   "cell_type": "code",
   "execution_count": 12,
   "metadata": {},
   "outputs": [
    {
     "data": {
      "text/plain": [
       "{'name': 'Shoaib',\n",
       " 'fname': 'Yakoob',\n",
       " 'age': 45,\n",
       " 'qualification': 'ICOM',\n",
       " 'Skills': ['Python', 'C#', 'AI']}"
      ]
     },
     "execution_count": 12,
     "metadata": {},
     "output_type": "execute_result"
    }
   ],
   "source": [
    "data = {\n",
    "    'name':'Shoaib',\n",
    "    'fname':'Yakoob',\n",
    "    'age':45,\n",
    "    'qualification':'ICOM',\n",
    "    'Skills':['Python','C#','AI']\n",
    "}\n",
    "\n",
    "data"
   ]
  },
  {
   "cell_type": "code",
   "execution_count": 13,
   "metadata": {},
   "outputs": [
    {
     "name": "stdout",
     "output_type": "stream",
     "text": [
      "<class 'dict'>\n",
      "['__class__', '__contains__', '__delattr__', '__delitem__', '__dir__', '__doc__', '__eq__', '__format__', '__ge__', '__getattribute__', '__getitem__', '__gt__', '__hash__', '__init__', '__init_subclass__', '__iter__', '__le__', '__len__', '__lt__', '__ne__', '__new__', '__reduce__', '__reduce_ex__', '__repr__', '__setattr__', '__setitem__', '__sizeof__', '__str__', '__subclasshook__', 'clear', 'copy', 'fromkeys', 'get', 'items', 'keys', 'pop', 'popitem', 'setdefault', 'update', 'values']\n"
     ]
    }
   ],
   "source": [
    "print(type(data))\n",
    "\n",
    "print(dir(data))\n"
   ]
  },
  {
   "cell_type": "code",
   "execution_count": 14,
   "metadata": {},
   "outputs": [
    {
     "name": "stdout",
     "output_type": "stream",
     "text": [
      "Shoaib\n"
     ]
    },
    {
     "data": {
      "text/plain": [
       "['Python', 'C#', 'AI']"
      ]
     },
     "execution_count": 14,
     "metadata": {},
     "output_type": "execute_result"
    }
   ],
   "source": [
    "print(data['name'])\n",
    "data['Skills']"
   ]
  },
  {
   "cell_type": "code",
   "execution_count": 15,
   "metadata": {},
   "outputs": [
    {
     "data": {
      "text/html": [
       "<div>\n",
       "<style scoped>\n",
       "    .dataframe tbody tr th:only-of-type {\n",
       "        vertical-align: middle;\n",
       "    }\n",
       "\n",
       "    .dataframe tbody tr th {\n",
       "        vertical-align: top;\n",
       "    }\n",
       "\n",
       "    .dataframe thead th {\n",
       "        text-align: right;\n",
       "    }\n",
       "</style>\n",
       "<table border=\"1\" class=\"dataframe\">\n",
       "  <thead>\n",
       "    <tr style=\"text-align: right;\">\n",
       "      <th></th>\n",
       "      <th>name</th>\n",
       "      <th>fname</th>\n",
       "      <th>age</th>\n",
       "      <th>qualification</th>\n",
       "      <th>Skills</th>\n",
       "    </tr>\n",
       "  </thead>\n",
       "  <tbody>\n",
       "    <tr>\n",
       "      <th>0</th>\n",
       "      <td>Shoaib</td>\n",
       "      <td>Yakoob</td>\n",
       "      <td>46</td>\n",
       "      <td>ICOM</td>\n",
       "      <td>Python</td>\n",
       "    </tr>\n",
       "    <tr>\n",
       "      <th>1</th>\n",
       "      <td>Khuzaima</td>\n",
       "      <td>Shoaib</td>\n",
       "      <td>17</td>\n",
       "      <td>Metric</td>\n",
       "      <td>BlockChain</td>\n",
       "    </tr>\n",
       "    <tr>\n",
       "      <th>2</th>\n",
       "      <td>Asif</td>\n",
       "      <td>Yousuf</td>\n",
       "      <td>45</td>\n",
       "      <td>ICOM</td>\n",
       "      <td>Export Agent</td>\n",
       "    </tr>\n",
       "  </tbody>\n",
       "</table>\n",
       "</div>"
      ],
      "text/plain": [
       "       name   fname  age qualification        Skills\n",
       "0    Shoaib  Yakoob   46          ICOM        Python\n",
       "1  Khuzaima  Shoaib   17        Metric    BlockChain\n",
       "2      Asif  Yousuf   45          ICOM  Export Agent"
      ]
     },
     "execution_count": 15,
     "metadata": {},
     "output_type": "execute_result"
    }
   ],
   "source": [
    "import pandas as pd\n",
    "\n",
    "data1 = {\n",
    "    'name':['Shoaib','Khuzaima','Asif'],\n",
    "    'fname':['Yakoob','Shoaib', 'Yousuf'],\n",
    "    'age':[46,17, 45],\n",
    "    'qualification':['ICOM','Metric','ICOM'],\n",
    "    'Skills':['Python', 'BlockChain','Export Agent']\n",
    "}\n",
    "\n",
    "df = pd.DataFrame(data1)\n",
    "df"
   ]
  },
  {
   "cell_type": "code",
   "execution_count": 16,
   "metadata": {},
   "outputs": [
    {
     "data": {
      "text/plain": [
       "{'name': ['Shoaib', 'Khuzaima', 'Asif'],\n",
       " 'fname': ['Yakoob', 'Shoaib', 'Yousuf'],\n",
       " 'age': [46, 17, 45],\n",
       " 'qualification': ['ICOM', 'Metric', 'ICOM'],\n",
       " 'Skills': ['Python', 'BlockChain', 'Export Agent']}"
      ]
     },
     "execution_count": 16,
     "metadata": {},
     "output_type": "execute_result"
    }
   ],
   "source": [
    "data1"
   ]
  },
  {
   "cell_type": "code",
   "execution_count": 2,
   "metadata": {},
   "outputs": [
    {
     "data": {
      "text/plain": [
       "{'name': 'Khuzaima BCC Student',\n",
       " 'fname': 'Muhammad Shoaib',\n",
       " 'course': 'BlockChain'}"
      ]
     },
     "execution_count": 2,
     "metadata": {},
     "output_type": "execute_result"
    }
   ],
   "source": [
    "data2 = {}\n",
    "\n",
    "data2['name'] = 'Khuzaima Shoaib'\n",
    "data2['fname'] = 'Muhammad Shoaib'\n",
    "data2['course'] = 'BlockChain'\n",
    "data2['name'] = 'Khuzaima'\n",
    "data2['name'] = data2['name'] + \" BCC Student\"\n",
    "\n",
    "data2"
   ]
  },
  {
   "cell_type": "code",
   "execution_count": 18,
   "metadata": {},
   "outputs": [
    {
     "data": {
      "text/plain": [
       "['__class__',\n",
       " '__contains__',\n",
       " '__delattr__',\n",
       " '__delitem__',\n",
       " '__dir__',\n",
       " '__doc__',\n",
       " '__eq__',\n",
       " '__format__',\n",
       " '__ge__',\n",
       " '__getattribute__',\n",
       " '__getitem__',\n",
       " '__gt__',\n",
       " '__hash__',\n",
       " '__init__',\n",
       " '__init_subclass__',\n",
       " '__iter__',\n",
       " '__le__',\n",
       " '__len__',\n",
       " '__lt__',\n",
       " '__ne__',\n",
       " '__new__',\n",
       " '__reduce__',\n",
       " '__reduce_ex__',\n",
       " '__repr__',\n",
       " '__setattr__',\n",
       " '__setitem__',\n",
       " '__sizeof__',\n",
       " '__str__',\n",
       " '__subclasshook__',\n",
       " 'clear',\n",
       " 'copy',\n",
       " 'fromkeys',\n",
       " 'get',\n",
       " 'items',\n",
       " 'keys',\n",
       " 'pop',\n",
       " 'popitem',\n",
       " 'setdefault',\n",
       " 'update',\n",
       " 'values']"
      ]
     },
     "execution_count": 18,
     "metadata": {},
     "output_type": "execute_result"
    }
   ],
   "source": [
    "dir(data)"
   ]
  },
  {
   "cell_type": "code",
   "execution_count": 19,
   "metadata": {},
   "outputs": [
    {
     "name": "stdout",
     "output_type": "stream",
     "text": [
      "{'name': 'KhuzaimaBCC Student', 'fname': 'Muhammad Shoaib', 'course': 'BlockChain'}\n",
      "{}\n"
     ]
    }
   ],
   "source": [
    "print(data2)\n",
    "data2.clear()\n",
    "print(data2)"
   ]
  },
  {
   "cell_type": "code",
   "execution_count": 30,
   "metadata": {},
   "outputs": [
    {
     "name": "stdout",
     "output_type": "stream",
     "text": [
      "{'name': 'Hamza Ali AI Student', 'fname': 'Aslam', 'course': 'AI'}\n"
     ]
    },
    {
     "ename": "NameError",
     "evalue": "name 'emp' is not defined",
     "output_type": "error",
     "traceback": [
      "\u001b[1;31m---------------------------------------------------------------------------\u001b[0m",
      "\u001b[1;31mNameError\u001b[0m                                 Traceback (most recent call last)",
      "\u001b[1;32m~\\AppData\\Local\\Temp\\ipykernel_1616\\861613501.py\u001b[0m in \u001b[0;36m<module>\u001b[1;34m\u001b[0m\n\u001b[0;32m      9\u001b[0m \u001b[0mprint\u001b[0m\u001b[1;33m(\u001b[0m\u001b[0memp\u001b[0m\u001b[1;33m)\u001b[0m\u001b[1;33m\u001b[0m\u001b[1;33m\u001b[0m\u001b[0m\n\u001b[0;32m     10\u001b[0m \u001b[1;32mdel\u001b[0m \u001b[0memp\u001b[0m\u001b[1;33m\u001b[0m\u001b[1;33m\u001b[0m\u001b[0m\n\u001b[1;32m---> 11\u001b[1;33m \u001b[0mprint\u001b[0m\u001b[1;33m(\u001b[0m\u001b[0memp\u001b[0m\u001b[1;33m)\u001b[0m\u001b[1;33m\u001b[0m\u001b[1;33m\u001b[0m\u001b[0m\n\u001b[0m",
      "\u001b[1;31mNameError\u001b[0m: name 'emp' is not defined"
     ]
    }
   ],
   "source": [
    "emp = {}\n",
    "\n",
    "emp['name'] = 'Muhammad Hamza'\n",
    "emp['fname'] = 'Aslam'\n",
    "emp['course'] = 'AI'\n",
    "emp['name'] = 'Hamza Ali'\n",
    "emp['name'] = emp['name'] +  ' AI Student'\n",
    "\n",
    "print(emp)\n",
    "del emp\n",
    "print(emp)"
   ]
  },
  {
   "cell_type": "code",
   "execution_count": 2,
   "metadata": {},
   "outputs": [
    {
     "name": "stdout",
     "output_type": "stream",
     "text": [
      "{'name': 'Hamza Ali AI Student', 'fname': 'Aslam', 'course': 'AI'}\n",
      "{'name': 'Hamza Ali AI Student', 'fname': 'Aslam', 'course': 'AI'}\n",
      "{'name': 'Hamza Ali AI Student', 'fname': 'Aslam', 'course': 'AI'}\n",
      "{'name': 'Hamza Ali AI Student', 'fname': 'Aslam', 'course': 'AI'}\n",
      "{'name': 'Hamza Waseem', 'fname': 'Aslam', 'course': 'AI'}\n",
      "{'name': 'Hamza Waseem', 'fname': 'Aslam', 'course': 'AI'}\n",
      "{'name': 'Hamza Waseem', 'fname': 'Aslam', 'course': 'AI'}\n",
      "{'name': 'Hamza Waseem', 'fname': 'Aslam', 'course': 'AI'}\n",
      "{'name': 'Hamza Waseem', 'fname': 'Aslam', 'course': 'AI'}\n"
     ]
    }
   ],
   "source": [
    "emp = {\n",
    "  'name': 'Hamza Ali AI Student',\n",
    "  'fname': 'Aslam',\n",
    "  'course': 'AI'\n",
    "}\n",
    "\n",
    "emp1 = emp\n",
    "emp2 = emp\n",
    "emp3 = emp\n",
    "\n",
    "print(emp)\n",
    "print(emp1)\n",
    "print(emp2)\n",
    "print(emp3)\n",
    "\n",
    "emp2['name']= 'Hamza Waseem'\n",
    "\n",
    "print(emp)\n",
    " \n",
    "print(emp)\n",
    "print(emp1)\n",
    "print(emp2)\n",
    "print(emp3)"
   ]
  },
  {
   "cell_type": "code",
   "execution_count": 3,
   "metadata": {},
   "outputs": [
    {
     "name": "stdout",
     "output_type": "stream",
     "text": [
      "{'name': 'Hamza Abdul Rauf', 'fname': 'Aslam', 'course': 'AI'}\n",
      "{'name': 'Hamza Ali AI Student', 'fname': 'Aslam', 'course': 'AI'}\n"
     ]
    }
   ],
   "source": [
    "emp = {\n",
    "  'name': 'Hamza Ali AI Student',\n",
    "  'fname': 'Aslam',\n",
    "  'course': 'AI'\n",
    "}\n",
    "\n",
    "emp1 = emp.copy()\n",
    "\n",
    "emp['name'] = 'Hamza Abdul Rauf'\n",
    "\n",
    "print(emp)\n",
    "print(emp1)"
   ]
  },
  {
   "cell_type": "code",
   "execution_count": 13,
   "metadata": {},
   "outputs": [
    {
     "name": "stdout",
     "output_type": "stream",
     "text": [
      "{'id': 'empty', 'name': 'empty', 'fname': 'empty', 'course': 'empty', 'timing': 'empty', 'address': 'empty'}\n",
      "dict_keys(['id', 'name', 'fname', 'course', 'timing', 'address'])\n"
     ]
    }
   ],
   "source": [
    "keys = ['id', 'name', 'fname', 'course', 'timing', 'address']\n",
    "\n",
    "list1 = dict.fromkeys(keys,'empty')\n",
    "print(list1)\n",
    "\n",
    "print(list1.keys())"
   ]
  },
  {
   "cell_type": "code",
   "execution_count": 15,
   "metadata": {},
   "outputs": [
    {
     "data": {
      "text/plain": [
       "'Hamza Ali AI Student'"
      ]
     },
     "execution_count": 15,
     "metadata": {},
     "output_type": "execute_result"
    }
   ],
   "source": [
    "emp = {\n",
    "  'name': 'Hamza Ali AI Student',\n",
    "  'fname': 'Aslam',\n",
    "  'course': 'AI'\n",
    "}\n",
    "\n",
    "emp.get('name')"
   ]
  },
  {
   "cell_type": "code",
   "execution_count": 19,
   "metadata": {},
   "outputs": [
    {
     "data": {
      "text/plain": [
       "'Not Available'"
      ]
     },
     "execution_count": 19,
     "metadata": {},
     "output_type": "execute_result"
    }
   ],
   "source": [
    "emp.get('add', 'Not Available') # if does not exist, will not raise error."
   ]
  },
  {
   "cell_type": "code",
   "execution_count": 20,
   "metadata": {},
   "outputs": [
    {
     "data": {
      "text/plain": [
       "{'name': 'Hamza Ali AI Student', 'fname': 'Aslam', 'course': 'AI'}"
      ]
     },
     "execution_count": 20,
     "metadata": {},
     "output_type": "execute_result"
    }
   ],
   "source": [
    "emp = {\n",
    "  'name': 'Hamza Ali AI Student',\n",
    "  'fname': 'Aslam',\n",
    "  'course': 'AI'\n",
    "}\n",
    "\n",
    "emp"
   ]
  },
  {
   "cell_type": "code",
   "execution_count": 21,
   "metadata": {},
   "outputs": [
    {
     "data": {
      "text/plain": [
       "dict_items([('name', 'Hamza Ali AI Student'), ('fname', 'Aslam'), ('course', 'AI')])"
      ]
     },
     "execution_count": 21,
     "metadata": {},
     "output_type": "execute_result"
    }
   ],
   "source": [
    "emp.items()"
   ]
  },
  {
   "cell_type": "code",
   "execution_count": 22,
   "metadata": {},
   "outputs": [
    {
     "data": {
      "text/plain": [
       "dict_values(['Hamza Ali AI Student', 'Aslam', 'AI'])"
      ]
     },
     "execution_count": 22,
     "metadata": {},
     "output_type": "execute_result"
    }
   ],
   "source": [
    "emp.values()"
   ]
  },
  {
   "cell_type": "code",
   "execution_count": 23,
   "metadata": {},
   "outputs": [
    {
     "name": "stdout",
     "output_type": "stream",
     "text": [
      "Hamza Ali AI Student\n",
      "Aslam\n",
      "AI\n"
     ]
    }
   ],
   "source": [
    "for value in emp.values():\n",
    "    print(value)"
   ]
  },
  {
   "cell_type": "code",
   "execution_count": 24,
   "metadata": {},
   "outputs": [
    {
     "name": "stdout",
     "output_type": "stream",
     "text": [
      "name\n",
      "fname\n",
      "course\n"
     ]
    }
   ],
   "source": [
    "for keys in emp.keys():\n",
    "    print(keys)"
   ]
  },
  {
   "cell_type": "code",
   "execution_count": 25,
   "metadata": {},
   "outputs": [
    {
     "name": "stdout",
     "output_type": "stream",
     "text": [
      "Hamza Ali AI Student\n",
      "Aslam\n",
      "AI\n"
     ]
    }
   ],
   "source": [
    "emp = {\n",
    "  'name': 'Hamza Ali AI Student',\n",
    "  'fname': 'Aslam',\n",
    "  'course': 'AI'\n",
    "}\n",
    "\n",
    "for key in emp.keys():\n",
    "    print(emp[key])"
   ]
  },
  {
   "cell_type": "code",
   "execution_count": 4,
   "metadata": {},
   "outputs": [
    {
     "data": {
      "text/plain": [
       "[1, 2, 3, 4, 5, 6, 7, 8, 9, 10]"
      ]
     },
     "execution_count": 4,
     "metadata": {},
     "output_type": "execute_result"
    }
   ],
   "source": [
    "nums = list(range(1, 11))\n",
    "nums"
   ]
  },
  {
   "cell_type": "code",
   "execution_count": 6,
   "metadata": {},
   "outputs": [
    {
     "name": "stdout",
     "output_type": "stream",
     "text": [
      "1\n",
      "2\n",
      "3\n",
      "4\n",
      "5\n",
      "6\n",
      "7\n",
      "8\n",
      "9\n",
      "10\n"
     ]
    }
   ],
   "source": [
    "for num in range(1, 11):\n",
    "    print(num)"
   ]
  },
  {
   "cell_type": "code",
   "execution_count": 11,
   "metadata": {},
   "outputs": [
    {
     "name": "stdout",
     "output_type": "stream",
     "text": [
      "Pakistan Zindabad\n",
      "None\n",
      "17\n",
      "<class 'int'>\n"
     ]
    }
   ],
   "source": [
    "a=print('Pakistan Zindabad')\n",
    "print(a)\n",
    "\n",
    "a = len('Pakistan Zindabad')\n",
    "print(a)\n",
    "    \n",
    "a = type(a)\n",
    "print(a)"
   ]
  },
  {
   "cell_type": "markdown",
   "metadata": {},
   "source": [
    "Pop()"
   ]
  },
  {
   "cell_type": "code",
   "execution_count": 15,
   "metadata": {},
   "outputs": [
    {
     "name": "stdout",
     "output_type": "stream",
     "text": [
      "{'name': 'Qasim', 'fname': 'Aslam', 'age': 30, 'qualification': 'MSDS'}\n"
     ]
    },
    {
     "data": {
      "text/plain": [
       "{'fname': 'Aslam', 'age': 30, 'qualification': 'MSDS'}"
      ]
     },
     "execution_count": 15,
     "metadata": {},
     "output_type": "execute_result"
    }
   ],
   "source": [
    "data = {\n",
    "    'name':'Qasim',\n",
    "    'fname':'Aslam',\n",
    "    'age':30,\n",
    "    'qualification':'MSDS'\n",
    "}\n",
    "\n",
    "print(data)\n",
    "\n",
    "del data['name']\n",
    "data"
   ]
  },
  {
   "cell_type": "code",
   "execution_count": 20,
   "metadata": {},
   "outputs": [
    {
     "name": "stdout",
     "output_type": "stream",
     "text": [
      "Qasim\n"
     ]
    }
   ],
   "source": [
    "data = {\n",
    "    'name':'Qasim',\n",
    "    'fname':'Aslam',\n",
    "    'age':30,\n",
    "    'qualification':'MSDS'\n",
    "}\n",
    "\n",
    "data\n",
    "\n",
    "p = data.pop(\"name\")\n",
    "print(p)"
   ]
  },
  {
   "cell_type": "code",
   "execution_count": 1,
   "metadata": {},
   "outputs": [
    {
     "name": "stdout",
     "output_type": "stream",
     "text": [
      "['Arif', 'Shamshad', 'Najam']\n",
      "Shahab\n"
     ]
    }
   ],
   "source": [
    "users = ['Arif', 'Shamshad', 'Najam', 'Shahab']\n",
    "\n",
    "user_logout = users.pop()\n",
    "\n",
    "print(users)\n",
    "print(user_logout)"
   ]
  },
  {
   "cell_type": "markdown",
   "metadata": {},
   "source": [
    "# Control Structure"
   ]
  },
  {
   "cell_type": "code",
   "execution_count": 3,
   "metadata": {},
   "outputs": [
    {
     "name": "stdout",
     "output_type": "stream",
     "text": [
      "Pakistan\n"
     ]
    }
   ],
   "source": [
    "if True:\n",
    "    print('Pakistan')\n",
    "\n",
    "if False:\n",
    "    print('Zindabad')"
   ]
  },
  {
   "cell_type": "code",
   "execution_count": 4,
   "metadata": {},
   "outputs": [
    {
     "name": "stdout",
     "output_type": "stream",
     "text": [
      "Pakistan\n"
     ]
    }
   ],
   "source": [
    "if True:\n",
    "    print('Pakistan')\n",
    "else:\n",
    "    print('Germany')"
   ]
  },
  {
   "cell_type": "code",
   "execution_count": 5,
   "metadata": {},
   "outputs": [
    {
     "name": "stdout",
     "output_type": "stream",
     "text": [
      "Germany\n"
     ]
    }
   ],
   "source": [
    "if False:\n",
    "    print('Pakistan')\n",
    "else:\n",
    "    print('Germany')"
   ]
  },
  {
   "cell_type": "code",
   "execution_count": 7,
   "metadata": {},
   "outputs": [
    {
     "name": "stdout",
     "output_type": "stream",
     "text": [
      "Admin\n"
     ]
    }
   ],
   "source": [
    "user = input('Enter username :')\n",
    "\n",
    "print(user)"
   ]
  },
  {
   "cell_type": "code",
   "execution_count": 11,
   "metadata": {},
   "outputs": [
    {
     "name": "stdout",
     "output_type": "stream",
     "text": [
      "Sorry, you don't have perission!\n"
     ]
    }
   ],
   "source": [
    "user = input('Enter username')\n",
    "\n",
    "if user == 'Admin':\n",
    "    print('Welcome Administrator!')\n",
    "else:\n",
    "    print(\"Sorry, you don't have perission!\")"
   ]
  },
  {
   "cell_type": "code",
   "execution_count": 16,
   "metadata": {},
   "outputs": [
    {
     "name": "stdout",
     "output_type": "stream",
     "text": [
      "Congratulation! your garde is A+\n"
     ]
    }
   ],
   "source": [
    "per = int(input('Please enter percentage :'))\n",
    "\n",
    "if per >= 90:\n",
    "    print('Congratulation! your garde is A+')\n",
    "elif per >= 80:\n",
    "    print('Congratulation! your garde is A')\n",
    "elif per >= 70:\n",
    "    print('Congratulation! your garde is B')\n",
    "elif per >= 60:\n",
    "    print('Congratulation! your garde is C')\n",
    "elif per >= 50:\n",
    "    print('Congratulation! your garde is D')\n",
    "else:\n",
    "    print('Work hard & try again! your garde is F')\n"
   ]
  },
  {
   "cell_type": "code",
   "execution_count": 21,
   "metadata": {},
   "outputs": [
    {
     "name": "stdout",
     "output_type": "stream",
     "text": [
      "1, 2, 3, abc, pakistan\n",
      "['1', ' 2', ' 3', ' abc', ' pakistan']\n"
     ]
    }
   ],
   "source": [
    "a = '1, 2, 3, abc, pakistan'\n",
    "print(a)\n",
    "\n",
    "a = a.split(',')\n",
    "print(a)\n"
   ]
  },
  {
   "cell_type": "code",
   "execution_count": 29,
   "metadata": {},
   "outputs": [
    {
     "name": "stdout",
     "output_type": "stream",
     "text": [
      "I love my country, Pakistan Zindabad!\n",
      "['I', 'love', 'my', 'country,', 'Pakistan', 'Zindabad!']\n"
     ]
    }
   ],
   "source": [
    "b = 'I love my country, Pakistan Zindabad!'\n",
    "print(b)\n",
    "\n",
    "b = b.split(' ',-1)\n",
    "print(b)"
   ]
  },
  {
   "cell_type": "code",
   "execution_count": null,
   "metadata": {},
   "outputs": [],
   "source": [
    "import re\n",
    "with open(\"./meeting_saved_chat.txt\") as f:\n",
    "    lines = f.readlines()\n",
    "    \n",
    "for row in lines:\n",
    "    roll = set(re.findall(r\"\\bPIAIC[0-9]{5,7}\\b\",row))\n",
    "    print(roll)"
   ]
  }
 ],
 "metadata": {
  "kernelspec": {
   "display_name": "Python 3.7.4 64-bit",
   "language": "python",
   "name": "python3"
  },
  "language_info": {
   "codemirror_mode": {
    "name": "ipython",
    "version": 3
   },
   "file_extension": ".py",
   "mimetype": "text/x-python",
   "name": "python",
   "nbconvert_exporter": "python",
   "pygments_lexer": "ipython3",
   "version": "3.7.4"
  },
  "orig_nbformat": 4,
  "vscode": {
   "interpreter": {
    "hash": "4e1ba61387719d04d8f8fff51d46b2a58fd131db834be85452e1bbfcc76c28d1"
   }
  }
 },
 "nbformat": 4,
 "nbformat_minor": 2
}

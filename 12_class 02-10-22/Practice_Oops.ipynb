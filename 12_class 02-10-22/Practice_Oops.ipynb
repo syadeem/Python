{
 "cells": [
  {
   "cell_type": "code",
   "execution_count": 2,
   "metadata": {},
   "outputs": [],
   "source": [
    "class Parent():\n",
    "    \"\"\"Initialize attribue to describe a parent\"\"\"\n",
    "    def __init__(self):\n",
    "        self.id = None\n",
    "        self.name = None\n",
    "        self.fname = None\n",
    "\n",
    "    def eat(self, food):\n",
    "        return f\"{self.name} is eating {food}\"\n",
    "\n",
    "    def speak(self, words, language='Urdu'):\n",
    "        return f\"{words}. Language = {language}\"\n",
    "\n",
    "class Child(Parent):\n",
    "    def walk(self, distance):\n",
    "        return f\"{self.name} has covered {self.distance}\"\n",
    "\n",
    "    def play(self, game):\n",
    "        return f\"{self.name} is playing {game}\""
   ]
  },
  {
   "cell_type": "code",
   "execution_count": 3,
   "metadata": {},
   "outputs": [
    {
     "name": "stdout",
     "output_type": "stream",
     "text": [
      "John\n",
      "1\n",
      "Smith\n",
      "John is eating Pizza\n",
      "Pakistan Zindabad!. Language = Urdu\n"
     ]
    }
   ],
   "source": [
    "p1 = Parent()\n",
    "p1.id = 1\n",
    "p1.name = 'John'\n",
    "p1.fname = 'Smith'\n",
    "\n",
    "print(p1.name)\n",
    "print(p1.id)\n",
    "print(p1.fname)\n",
    "print(p1.eat('Pizza'))\n",
    "print(p1.speak('Pakistan Zindabad!'))"
   ]
  },
  {
   "cell_type": "markdown",
   "metadata": {},
   "source": [
    "### Inheritance"
   ]
  },
  {
   "cell_type": "code",
   "execution_count": 4,
   "metadata": {},
   "outputs": [],
   "source": [
    "class Parent():\n",
    "    \"\"\"Initialize attribue to describe a parent\"\"\"\n",
    "    def __init__(self):\n",
    "        self.id = None\n",
    "        self.name = None\n",
    "        self.fname = None\n",
    "\n",
    "    def eat(self, food):\n",
    "        return f\"{self.name} is eating {food}\"\n",
    "\n",
    "    def speak(self, words, language='Urdu'):\n",
    "        return f\"{words}. Language = {language}\"\n",
    "\n",
    "class Child(Parent): # Inherit Parent class with Child class\n",
    "    def walk(self, distance):\n",
    "        return f\"{self.name} has covered {self.distance}\"\n",
    "\n",
    "    def play(self, game):\n",
    "        return f\"{self.name} is playing {game}\""
   ]
  },
  {
   "cell_type": "code",
   "execution_count": 5,
   "metadata": {},
   "outputs": [
    {
     "name": "stdout",
     "output_type": "stream",
     "text": [
      "Jane is eating Biscuit\n",
      "Hunn.. Hunn... Language = Urdu\n"
     ]
    }
   ],
   "source": [
    "c1 = Child()\n",
    "c1.id = 2\n",
    "c1.name = 'Jane'\n",
    "c1.fname = 'Doe'\n",
    "\n",
    "# print([i for i in dir(c1) if '__' not in i])\n",
    "\n",
    "print(c1.eat('Biscuit'))\n",
    "print(c1.speak('Hunn.. Hunn..'))"
   ]
  },
  {
   "cell_type": "markdown",
   "metadata": {},
   "source": [
    "### Multi Level Inheritance"
   ]
  },
  {
   "cell_type": "code",
   "execution_count": 9,
   "metadata": {},
   "outputs": [
    {
     "name": "stdout",
     "output_type": "stream",
     "text": [
      "['color', 'fname', 'hair_color', 'name', 'silent', 'speak']\n"
     ]
    }
   ],
   "source": [
    "class Father():\n",
    "    def __init__(self, name) -> None:\n",
    "        self.name = name\n",
    "        self.fname = None\n",
    "        self.color = \"Brown\"\n",
    "        self.hair_color = \"Dark Brown\"\n",
    "\n",
    "    def speak(self):\n",
    "        return \"Haha.....\"\n",
    "\n",
    "class Mother():\n",
    "    def __init__(self) -> None:\n",
    "        self.height = 5.5\n",
    "        self.color = \"White\"\n",
    "\n",
    "    def silent(self):\n",
    "        return \".......\"\n",
    "\n",
    "class Child(Father, Mother):\n",
    "    pass\n",
    "\n",
    "c1 = Child('Rustam')\n",
    "print([i for i in dir(c1) if '__' not in i])"
   ]
  }
 ],
 "metadata": {
  "kernelspec": {
   "display_name": "Python 3.7.4 64-bit",
   "language": "python",
   "name": "python3"
  },
  "language_info": {
   "codemirror_mode": {
    "name": "ipython",
    "version": 3
   },
   "file_extension": ".py",
   "mimetype": "text/x-python",
   "name": "python",
   "nbconvert_exporter": "python",
   "pygments_lexer": "ipython3",
   "version": "3.7.4"
  },
  "orig_nbformat": 4,
  "vscode": {
   "interpreter": {
    "hash": "4e1ba61387719d04d8f8fff51d46b2a58fd131db834be85452e1bbfcc76c28d1"
   }
  }
 },
 "nbformat": 4,
 "nbformat_minor": 2
}

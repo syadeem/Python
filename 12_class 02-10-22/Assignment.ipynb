{
 "cells": [
  {
   "cell_type": "code",
   "execution_count": 1,
   "metadata": {},
   "outputs": [
    {
     "name": "stdout",
     "output_type": "stream",
     "text": [
      "\n",
      "        Vehicle Description\n",
      "        Toyota V8 Jeep 2005\n",
      "        2000Km Mileage\n",
      "        \n",
      "\n",
      "        Vehicle Description\n",
      "        Toyota V8 Jeep 2005\n",
      "        4000Km Mileage\n",
      "        \n"
     ]
    }
   ],
   "source": [
    "class Vehicle():\n",
    "\n",
    "    def __init__(self, make, model, type, year):\n",
    "        self.make = make\n",
    "        self.model = model\n",
    "        self.type = type\n",
    "        self.year = year\n",
    "        self.mileage = 0\n",
    "\n",
    "    def get_vehicle_desc(self):\n",
    "        vehicle_name = f\"\"\"\n",
    "        Vehicle Description\n",
    "        {self.make} {self.model} {self.type} {self.year}\n",
    "        {self.mileage}km mileage\n",
    "        \"\"\"\n",
    "        return vehicle_name.title()\n",
    "\n",
    "    def update_mileage(self, mile):\n",
    "        if mile >= self.mileage:\n",
    "            self.mileage += mile\n",
    "        else:\n",
    "            print(f\"You can't roll back mileage, current mileage is {self.mileage}km.\")\n",
    "\n",
    "veh1 = Vehicle('toyota', 'v8', 'jeep', 2005)\n",
    "veh1.update_mileage(2000)\n",
    "print(veh1.get_vehicle_desc())\n",
    "\n",
    "veh1.update_mileage(2000)\n",
    "print(veh1.get_vehicle_desc())"
   ]
  },
  {
   "cell_type": "code",
   "execution_count": 2,
   "metadata": {},
   "outputs": [
    {
     "name": "stdout",
     "output_type": "stream",
     "text": [
      "You can't roll back mileage, current mileage is 4000km.\n"
     ]
    }
   ],
   "source": [
    "veh1.update_mileage(1500)"
   ]
  },
  {
   "cell_type": "code",
   "execution_count": 3,
   "metadata": {},
   "outputs": [],
   "source": [
    "class VehicleSpec(Vehicle):\n",
    "\n",
    "    def __init__(self, make, model, type, year, color, engine):\n",
    "        super().__init__(make, model, type, year)\n",
    "        self.color = color\n",
    "        self.engine = engine\n",
    "\n",
    "    def get_vehicle_desc(self):\n",
    "        d = f\"\"\"{super().get_vehicle_desc()}\n",
    "        {self.color} color with {self.engine} engine\n",
    "        \"\"\"\n",
    "        return d.title()\n",
    "\n",
    "veh2 = VehicleSpec('hyudai', 'shahzor', 'pick-up', 2020, 'white', '6 clyinder 50HP')"
   ]
  },
  {
   "cell_type": "code",
   "execution_count": 4,
   "metadata": {},
   "outputs": [
    {
     "name": "stdout",
     "output_type": "stream",
     "text": [
      "\n",
      "        Vehicle Description\n",
      "        Hyudai Shahzor Pick-Up 2020\n",
      "        100Km Mileage\n",
      "        \n",
      "        White Color With 6 Clyinder 50Hp Engine\n",
      "        \n"
     ]
    }
   ],
   "source": [
    "veh2.update_mileage(100)\n",
    "print(veh2.get_vehicle_desc())"
   ]
  },
  {
   "cell_type": "code",
   "execution_count": 7,
   "metadata": {},
   "outputs": [
    {
     "name": "stdout",
     "output_type": "stream",
     "text": [
      "['color', 'distance_covered', 'engine', 'get_status', 'get_vehicle_desc', 'make', 'mileage', 'model', 'type', 'update_mileage', 'year']\n"
     ]
    }
   ],
   "source": [
    "class VehicleAction(VehicleSpec):\n",
    "    \n",
    "    def get_status(self):\n",
    "        if self.type == 'car' or self.type == 'jeep':\n",
    "            print(f\"Persons are boarded and ready to go.\")\n",
    "        elif self.type == 'pick-up' or self.type =='truck':\n",
    "            print(f\"Stuff are loaded and ready to go.\")\n",
    "\n",
    "    def distance_covered(self, distance):\n",
    "        self.mileage += distance\n",
    "        print(f\"Your {self.type} has distance covered {distance}km. total current mileage is {self.mileage}\")\n",
    "\n",
    "veh3 = VehicleAction('audi', 'R8', 'car', 2021, 'red', '8 clyinder 350HP')\n",
    "veh4 = VehicleAction('mazda', 't3000', 'truck', 1998, 'blue', '8 clyinder 500HP')\n",
    "\n",
    "print([i for i in dir(veh4) if '__' not in i])"
   ]
  },
  {
   "cell_type": "code",
   "execution_count": 8,
   "metadata": {},
   "outputs": [
    {
     "name": "stdout",
     "output_type": "stream",
     "text": [
      "Persons are boarded and ready to go.\n",
      "Your car has distance covered 200km. total current mileage is 200\n",
      "\n",
      "Stuff are loaded and ready to go.\n",
      "Your truck has distance covered 800km. total current mileage is 800\n"
     ]
    }
   ],
   "source": [
    "veh3.get_status()\n",
    "veh3.distance_covered(200)\n",
    "print()\n",
    "veh4.get_status()\n",
    "veh4.distance_covered(800)\n"
   ]
  }
 ],
 "metadata": {
  "kernelspec": {
   "display_name": "Python 3.7.4 64-bit",
   "language": "python",
   "name": "python3"
  },
  "language_info": {
   "codemirror_mode": {
    "name": "ipython",
    "version": 3
   },
   "file_extension": ".py",
   "mimetype": "text/x-python",
   "name": "python",
   "nbconvert_exporter": "python",
   "pygments_lexer": "ipython3",
   "version": "3.7.4"
  },
  "orig_nbformat": 4,
  "vscode": {
   "interpreter": {
    "hash": "4e1ba61387719d04d8f8fff51d46b2a58fd131db834be85452e1bbfcc76c28d1"
   }
  }
 },
 "nbformat": 4,
 "nbformat_minor": 2
}

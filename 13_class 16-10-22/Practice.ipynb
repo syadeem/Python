{
 "cells": [
  {
   "cell_type": "markdown",
   "metadata": {},
   "source": [
    "## Encapsulation"
   ]
  },
  {
   "cell_type": "code",
   "execution_count": 2,
   "metadata": {},
   "outputs": [],
   "source": [
    "class Facebook():\n",
    "    def __init__(self, user):\n",
    "        self.user = user\n",
    "        self.__password = 'admin123'\n",
    "        self.__email = None\n",
    "\n",
    "user1 = Facebook('Shoaib')\n",
    "user2 = Facebook('Asif')"
   ]
  },
  {
   "cell_type": "code",
   "execution_count": 3,
   "metadata": {},
   "outputs": [
    {
     "name": "stdout",
     "output_type": "stream",
     "text": [
      "Shoaib\n"
     ]
    }
   ],
   "source": [
    "print(user1.user)"
   ]
  },
  {
   "cell_type": "code",
   "execution_count": 4,
   "metadata": {},
   "outputs": [
    {
     "name": "stdout",
     "output_type": "stream",
     "text": [
      "Mohammad Shoaib\n"
     ]
    }
   ],
   "source": [
    "user1.user = 'Mohammad Shoaib'\n",
    "print(user1.user)"
   ]
  },
  {
   "cell_type": "code",
   "execution_count": 7,
   "metadata": {},
   "outputs": [
    {
     "ename": "AttributeError",
     "evalue": "'Facebook' object has no attribute 'password'",
     "output_type": "error",
     "traceback": [
      "\u001b[1;31m---------------------------------------------------------------------------\u001b[0m",
      "\u001b[1;31mAttributeError\u001b[0m                            Traceback (most recent call last)",
      "\u001b[1;32m~\\AppData\\Local\\Temp\\ipykernel_2816\\4063406215.py\u001b[0m in \u001b[0;36m<module>\u001b[1;34m\u001b[0m\n\u001b[1;32m----> 1\u001b[1;33m \u001b[0mprint\u001b[0m\u001b[1;33m(\u001b[0m\u001b[0muser1\u001b[0m\u001b[1;33m.\u001b[0m\u001b[0mpassword\u001b[0m\u001b[1;33m)\u001b[0m\u001b[1;33m\u001b[0m\u001b[1;33m\u001b[0m\u001b[0m\n\u001b[0m\u001b[0;32m      2\u001b[0m \u001b[0mprint\u001b[0m\u001b[1;33m(\u001b[0m\u001b[0muser1\u001b[0m\u001b[1;33m.\u001b[0m\u001b[0memail\u001b[0m\u001b[1;33m)\u001b[0m\u001b[1;33m\u001b[0m\u001b[1;33m\u001b[0m\u001b[0m\n",
      "\u001b[1;31mAttributeError\u001b[0m: 'Facebook' object has no attribute 'password'"
     ]
    }
   ],
   "source": [
    "print(user1.password)\n",
    "print(user1.email)"
   ]
  },
  {
   "cell_type": "code",
   "execution_count": 9,
   "metadata": {},
   "outputs": [
    {
     "name": "stdout",
     "output_type": "stream",
     "text": [
      "admin123\n"
     ]
    }
   ],
   "source": [
    "print(user1._Facebook__password)"
   ]
  },
  {
   "cell_type": "markdown",
   "metadata": {},
   "source": [
    "## Getter and Setter Methods"
   ]
  },
  {
   "cell_type": "code",
   "execution_count": 12,
   "metadata": {},
   "outputs": [],
   "source": [
    "class User():\n",
    "    def __init__(self, user):\n",
    "        self.user = user\n",
    "        self.__password = 'admin123'\n",
    "        self.__email = None\n",
    "\n",
    "    # Setter Method\n",
    "    def update_info(self, new_password, new_email):\n",
    "        self.__password = new_password\n",
    "        self.__email = new_email\n",
    "\n",
    "    # Getter Method\n",
    "    def get_info(self):\n",
    "        return f\"\"\"\n",
    "    Welcome {self.user}\n",
    "    Your registered email address is: {self.__email}\n",
    "    Your current password is: {self.__password}    \n",
    "        \"\"\"\n",
    "    \n",
    "\n",
    "user3 = User('Khuzaima')\n",
    "user4 = User('Shahid')"
   ]
  },
  {
   "cell_type": "code",
   "execution_count": 13,
   "metadata": {},
   "outputs": [
    {
     "name": "stdout",
     "output_type": "stream",
     "text": [
      "\n",
      "    Welcome Khuzaima\n",
      "    Your registered email address is: None\n",
      "    Your current password is: admin123    \n",
      "        \n"
     ]
    }
   ],
   "source": [
    "print(user3.get_info())"
   ]
  },
  {
   "cell_type": "code",
   "execution_count": 16,
   "metadata": {},
   "outputs": [],
   "source": [
    "user3.update_info('khuab123', 'khuzaima.shoaib@gmail.com')"
   ]
  },
  {
   "cell_type": "code",
   "execution_count": 17,
   "metadata": {},
   "outputs": [
    {
     "name": "stdout",
     "output_type": "stream",
     "text": [
      "\n",
      "    Welcome Khuzaima\n",
      "    Your registered email address is: khuzaima.shoaib@gmail.com\n",
      "    Your current password is: khuab123    \n",
      "        \n"
     ]
    }
   ],
   "source": [
    "print(user3.get_info())"
   ]
  },
  {
   "cell_type": "code",
   "execution_count": 24,
   "metadata": {},
   "outputs": [],
   "source": [
    "class User():\n",
    "    def __init__(self, user):\n",
    "        self.user = user\n",
    "        self.__password = 'admin123'\n",
    "        self.__email = None\n",
    "\n",
    "    # Setter Method\n",
    "    def update_info(self, new_password, new_email):\n",
    "        self.__password = new_password\n",
    "        self.__email = new_email\n",
    "\n",
    "    # Getter Method\n",
    "    def get_info(self):\n",
    "        return f\"\"\"\n",
    "    Welcome {self.user}\n",
    "    Your registered email address is: {self.__email}\n",
    "    Your current password is: {self.__password} \n",
    "    Hidden DB Information: {self.__connDB()}   \n",
    "        \"\"\"\n",
    "\n",
    "    # Connection String\n",
    "    def __connDB(self):\n",
    "        return \"All connectivity sensitive information!\"\n",
    "    \n",
    "\n",
    "user3 = User('Khuzaima')\n",
    "user4 = User('Shahid')"
   ]
  },
  {
   "cell_type": "code",
   "execution_count": 21,
   "metadata": {},
   "outputs": [
    {
     "ename": "AttributeError",
     "evalue": "'User' object has no attribute 'connDB'",
     "output_type": "error",
     "traceback": [
      "\u001b[1;31m---------------------------------------------------------------------------\u001b[0m",
      "\u001b[1;31mAttributeError\u001b[0m                            Traceback (most recent call last)",
      "\u001b[1;32m~\\AppData\\Local\\Temp\\ipykernel_2816\\2533769858.py\u001b[0m in \u001b[0;36m<module>\u001b[1;34m\u001b[0m\n\u001b[1;32m----> 1\u001b[1;33m \u001b[0mprint\u001b[0m\u001b[1;33m(\u001b[0m\u001b[0muser3\u001b[0m\u001b[1;33m.\u001b[0m\u001b[0mconnDB\u001b[0m\u001b[1;33m(\u001b[0m\u001b[1;33m)\u001b[0m\u001b[1;33m)\u001b[0m\u001b[1;33m\u001b[0m\u001b[1;33m\u001b[0m\u001b[0m\n\u001b[0m",
      "\u001b[1;31mAttributeError\u001b[0m: 'User' object has no attribute 'connDB'"
     ]
    }
   ],
   "source": [
    "print(user3.connDB())"
   ]
  },
  {
   "cell_type": "code",
   "execution_count": 25,
   "metadata": {},
   "outputs": [
    {
     "name": "stdout",
     "output_type": "stream",
     "text": [
      "\n",
      "    Welcome Khuzaima\n",
      "    Your registered email address is: None\n",
      "    Your current password is: admin123 \n",
      "    Hidden DB Information: All connectivity sensitive information!   \n",
      "        \n"
     ]
    }
   ],
   "source": [
    "print(user3.get_info())"
   ]
  },
  {
   "cell_type": "markdown",
   "metadata": {},
   "source": [
    "## Abstract Class"
   ]
  },
  {
   "cell_type": "code",
   "execution_count": null,
   "metadata": {},
   "outputs": [],
   "source": []
  }
 ],
 "metadata": {
  "kernelspec": {
   "display_name": "Python 3.7.4 64-bit",
   "language": "python",
   "name": "python3"
  },
  "language_info": {
   "codemirror_mode": {
    "name": "ipython",
    "version": 3
   },
   "file_extension": ".py",
   "mimetype": "text/x-python",
   "name": "python",
   "nbconvert_exporter": "python",
   "pygments_lexer": "ipython3",
   "version": "3.7.4"
  },
  "orig_nbformat": 4,
  "vscode": {
   "interpreter": {
    "hash": "4e1ba61387719d04d8f8fff51d46b2a58fd131db834be85452e1bbfcc76c28d1"
   }
  }
 },
 "nbformat": 4,
 "nbformat_minor": 2
}

{
 "cells": [
  {
   "cell_type": "code",
   "execution_count": 2,
   "metadata": {},
   "outputs": [
    {
     "name": "stdout",
     "output_type": "stream",
     "text": [
      "8\n",
      "7\n"
     ]
    }
   ],
   "source": [
    "a = 7   # here a is global variable\n",
    "\n",
    "def abc():\n",
    "    a = 8   # here a is local variable\n",
    "    return a\n",
    "\n",
    "print(abc())\n",
    "print(a)"
   ]
  },
  {
   "cell_type": "code",
   "execution_count": 3,
   "metadata": {},
   "outputs": [
    {
     "name": "stdout",
     "output_type": "stream",
     "text": [
      "Attempt 2nd Quiz.\n"
     ]
    }
   ],
   "source": [
    "course = 'AI'\n",
    "\n",
    "q1t1 = 'AI for Everyone'\n",
    "q1t2 = 'Python test1'\n",
    "q1t3 = 'Python test2'\n",
    "\n",
    "if course == 'AI':\n",
    "    if q1t1 == 'AI for Everyone' and q1t3 == 'Python test2':\n",
    "        print('Attempt 2nd Quiz.')\n",
    "    elif q1t2 == 'Python test2':\n",
    "        print('Attempt 1st & 3rd Quiz')\n",
    "    elif q1t1 == 'Pakistan Zindabad':\n",
    "        print('Pakistan Zindabad')\n",
    "    else:\n",
    "        print('Not attempt any quiz.')\n",
    "else:\n",
    "    print('He/She is not AI Student.')"
   ]
  },
  {
   "cell_type": "code",
   "execution_count": 5,
   "metadata": {},
   "outputs": [
    {
     "name": "stdout",
     "output_type": "stream",
     "text": [
      "5\n"
     ]
    }
   ],
   "source": [
    "a = \"\"\"\n",
    "x = 2\n",
    "y = 3\n",
    "print(x + y)\n",
    "\"\"\"\n",
    "\n",
    "result = compile(a, 'abc', 'exec')\n",
    "exec(result)"
   ]
  },
  {
   "cell_type": "code",
   "execution_count": 7,
   "metadata": {},
   "outputs": [
    {
     "name": "stdout",
     "output_type": "stream",
     "text": [
      "[1, 2, 3, 4, 5, 5, 6]\n",
      "{1, 2, 3, 4, 5, 6}\n"
     ]
    }
   ],
   "source": [
    "num = [1, 2, 3, 4, 5, 5, 6]\n",
    "\n",
    "print(num)\n",
    "print(set(num))"
   ]
  }
 ],
 "metadata": {
  "kernelspec": {
   "display_name": "Python 3.7.4 64-bit",
   "language": "python",
   "name": "python3"
  },
  "language_info": {
   "codemirror_mode": {
    "name": "ipython",
    "version": 3
   },
   "file_extension": ".py",
   "mimetype": "text/x-python",
   "name": "python",
   "nbconvert_exporter": "python",
   "pygments_lexer": "ipython3",
   "version": "3.7.4"
  },
  "orig_nbformat": 4,
  "vscode": {
   "interpreter": {
    "hash": "4e1ba61387719d04d8f8fff51d46b2a58fd131db834be85452e1bbfcc76c28d1"
   }
  }
 },
 "nbformat": 4,
 "nbformat_minor": 2
}
